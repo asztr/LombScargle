{
 "cells": [
  {
   "cell_type": "code",
   "execution_count": null,
   "id": "e00c07d9",
   "metadata": {},
   "outputs": [],
   "source": [
    "# Install your module from GitHub (no dependencies)\n",
    "!pip install --quiet --no-deps git+https://github.com/asztr/lombscargle.git\n",
    "\n",
    "# Imports\n",
    "import torch\n",
    "import numpy as np\n",
    "from lombscargle import LS_omegas, LombScargleBatchMask\n"
   ]
  },
  {
   "cell_type": "code",
   "execution_count": null,
   "id": "1f5908ec",
   "metadata": {},
   "outputs": [],
   "source": [
    "# Example time series (batch of 1)\n",
    "t = torch.tensor([[0.1, 0.4, 0.7, 1.0]])\n",
    "y = torch.tensor([[0.0, 1.0, 0.0, -1.0]])\n",
    "\n",
    "# Compute angular frequencies\n",
    "omegas = torch.tensor(LS_omegas(t[0].numpy(), samples_per_peak=5), dtype=torch.float32)\n",
    "\n",
    "# Instantiate and compute periodogram\n",
    "ls = LombScargleBatchMask(omegas)\n",
    "P = ls(t, y, fap=True, norm=True)\n",
    "\n",
    "# Plot the periodogram\n",
    "import matplotlib.pyplot as plt\n",
    "\n",
    "freqs = omegas.numpy() / (2 * np.pi)  # Convert to Hz\n",
    "plt.plot(freqs, P.detach().numpy()[0])\n",
    "plt.xlabel(\"Frequency [Hz]\")\n",
    "plt.ylabel(\"Normalized Power\")\n",
    "plt.title(\"Lomb-Scargle Periodogram\")\n",
    "plt.grid(True)\n",
    "plt.show()\n"
   ]
  }
 ],
 "metadata": {
  "language_info": {
   "name": "python"
  }
 },
 "nbformat": 4,
 "nbformat_minor": 5
}
